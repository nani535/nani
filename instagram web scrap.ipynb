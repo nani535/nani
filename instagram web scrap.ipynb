{
 "cells": [
  {
   "cell_type": "code",
   "execution_count": null,
   "metadata": {},
   "outputs": [],
   "source": []
  },
  {
   "cell_type": "code",
   "execution_count": 14,
   "metadata": {},
   "outputs": [
    {
     "name": "stdout",
     "output_type": "stream",
     "text": [
      "<class 'instaloader.structures.Profile'>\n"
     ]
    }
   ],
   "source": [
    "import instaloader\n",
    "\n",
    "# Create an instance of Instaloader class\n",
    "bot = instaloader.Instaloader()\n",
    "\n",
    "# Load a profile from an Instagram handle\n",
    "profile = instaloader.Profile.from_username(bot.context, 'shashilimitboyz')\n",
    "\n",
    "print(type(profile))"
   ]
  },
  {
   "cell_type": "code",
   "execution_count": 15,
   "metadata": {},
   "outputs": [],
   "source": [
    "import warnings\n",
    "warnings.filterwarnings('ignore')"
   ]
  },
  {
   "cell_type": "code",
   "execution_count": 16,
   "metadata": {},
   "outputs": [
    {
     "name": "stdout",
     "output_type": "stream",
     "text": [
      "Username:  shashilimitboyz\n",
      "User ID:  4169964889\n",
      "Number of Posts:  56\n",
      "Followers:  164\n",
      "Followees:  127\n",
      "Bio:  June 9.\n",
      "Mr.Chef🍝\n",
      "Mr.gamer.🎮\n",
      "Gaming ac: @ig_mr.hype None\n"
     ]
    }
   ],
   "source": [
    "print(\"Username: \", profile.username)\n",
    "print(\"User ID: \", profile.userid)\n",
    "print(\"Number of Posts: \", profile.mediacount)\n",
    "print(\"Followers: \", profile.followers)\n",
    "print(\"Followees: \", profile.followees)\n",
    "print(\"Bio: \", profile.biography,profile.external_url)"
   ]
  },
  {
   "cell_type": "code",
   "execution_count": 10,
   "metadata": {},
   "outputs": [
    {
     "name": "stdout",
     "output_type": "stream",
     "text": [
      "Enter Instagram password for nani_king143: ········\n"
     ]
    }
   ],
   "source": [
    "# Login with username and password in the script\n",
    "bot.login(user=\"nani_king143\",passwd=\"Naniking143\")\n",
    "\n",
    "# Interactive login on terminal\n",
    "bot.interactive_login(\"nani_king143\") # Asks for password in the terminal"
   ]
  },
  {
   "cell_type": "code",
   "execution_count": 11,
   "metadata": {},
   "outputs": [
    {
     "name": "stdout",
     "output_type": "stream",
     "text": [
      "['p_jay_rao_gari_abbai', 'gopaganirishitha', 'ramanujam_kanduri', 'vijaykumar_0607', 'mr_hari_nani_', 'rakeshummalla', 'naninandu4', 'datapoint1', 'mandapatianu', 'suhassunny212', 'limitless_saimahesh', 'niha_011', 'gee_tee_educational_services', 'sudheer8495', 'rakeshreddylakkam_27', 'sb682527', 'satishbolleddu', 'akhilramaswamy', 'veerendramukkollu', 'satish_bolleddu', 'chandrasekhar_45', 'srii_rockstar1443', 'lakshmi_ambati4', 'pa.van3414', 'usmanshaik343', 'koduri.sriharsha', 'nani_devil_king', 'balamswathi', 'susmithamasham', 'srikanth.koppula17', 'konka.ramesh', 'hema1_4_3', 'hemanthsaisubhash', 'sairajulapati8', 'donsrinunaidu', 'pubgcustombattles_2_', 'pubgtournamentking', 'the_pubg_match', 'ambati.rao', 'addanki_gopi_naidu', 'mr.shannu_29', 'chandrasekhar45', 'surasaitarun', 'suresh_sane', 'madasulakshminethra48586', 'anji5463', 'thatikantikirankumar', 'srikar_2425', 'snigdha._.reddy', 'jashuuuuuuu', 'peaceboy_saleem', 'rajeshbb30', 'srilekha11', 'mr_choco_chin_', 'srikanth5853', 'lakshminethr', '_s_h_i_v_1124', '_lovely_prasad_naidu_', 'srinishareddy20', 'lahariavasarala', '_krupakaran', '_starky251098', 'anjaneyulu8493', 'vishnu_vardhan_stp', 'pratyushagnana1001', 'chsudheerkumar', 'pav6456', 'bheemesh_yadav', 'don_srinu_naidu', 'aishuuuu_mak', 'koppula360', 'indrakaranreddy.dubbaka.9', 'sai_chandu_polapally', 'iam__vamshikrishna', 'unprofessional_fellow_satti_98', 'tamtam_venki', 'pratyushagnana', 'darlingluckysaleem', 'venkatesh_from_chennai', 'siddhu_ambati', 'venkateswararaosirasani', 'pratyushapandu', 'venkatdadhe', 'kotesh_1210', 'dimpu_sasi_harsha', 'arjun__penugonda', 'sainarendra474', 'pachipalakrishna', 'as631589', 'chepurusairakesh', 'ganeshkandrathi', 'saidasari9490', 'thisisnerella', 'shaikrehaman5267', 'tarak_choudary', 'sivashankar_siva', 'khani_ishk', 'vantalanarendra', 'simba_the_lion_king07', 'nagarjuna__ambati', 'saidavali__photography', 'ambrose.anil', 'saisantosh91221', 'inthiyaz_ahammad_786', 'srinivas_vishnu', 'harshithataduri', 'p.saishirisha', 'narsimha__', 'keethalavanya', 'pubg_royality', 'shwethareddy.aleti123', 'sudheer_sd', 'vorugantip', 'shwethareddyaleti', 'durgaprasadmandapati', 'i_bunny_mohan', 'bhavani_tena', 'tarak_sai_teja', 'gopalyarramothu', 'suriyaas305', 'maheshgarudas', 'dinnu3578', 'mr.peace_8', 'priyankavoruganti', 'venkat___97', 'shashilimitboyz', 'tarak_chowdary_', 'aasesh_guptha', 'sai_teza', 'saikumaryatirajula', 'praveen1862', 'gundlaranjithkumar', 'mee__deepu', 'krishna_pachipala', 'mr_tilu18', 'abhichitty', 'mahi_is_the_best', 'cheeluhere', 'reddy1586', 'dnikhilreddy', 'mohan_sanju_', 'srikanthambati', 'i_maniayaan', 'harish_kolpuri', 'vamsikrishnakanigiri', 'mr.sai_krishna_dasari', 'madhan_ambati', 'sahithi_reddyonline', 'vamshipradeep', '_ram__9', 'saikrishna3856', 'mandapatisiva', 'avvari_harsha', 'nikhilambati25', 'udaysun77', 'ch_purna_reddy', 'seetharam1', 't.trishali_reddy', 'anilkaup', 'vaishnavi_uvs', 't_naveen_reddy', 't.venkatsai_']\n"
     ]
    }
   ],
   "source": [
    "# Retrieve the usernames of all followers\n",
    "followers = [follower.username for follower in profile.get_followers()]\n",
    "\n",
    "# Retrieve the usernames of all followees\n",
    "followees = [followee.username for followee in profile.get_followees()]\n",
    "print(followers)"
   ]
  },
  {
   "cell_type": "code",
   "execution_count": 13,
   "metadata": {},
   "outputs": [],
   "source": [
    "# Load a new profile\n",
    "profile = instaloader.Profile.from_username(bot.context, '_s_h_i_v_1124')\n",
    "\n",
    "# Get all posts in a generator object\n",
    "posts = profile.get_posts()\n",
    "\n",
    "# Iterate and download\n",
    "for index, post in enumerate(posts, 4):\n",
    "    bot.download_post(post, target=f\"{profile.username}_{index}\")"
   ]
  },
  {
   "cell_type": "code",
   "execution_count": null,
   "metadata": {},
   "outputs": [],
   "source": []
  }
 ],
 "metadata": {
  "kernelspec": {
   "display_name": "Python 3",
   "language": "python",
   "name": "python3"
  },
  "language_info": {
   "codemirror_mode": {
    "name": "ipython",
    "version": 3
   },
   "file_extension": ".py",
   "mimetype": "text/x-python",
   "name": "python",
   "nbconvert_exporter": "python",
   "pygments_lexer": "ipython3",
   "version": "3.8.3"
  }
 },
 "nbformat": 4,
 "nbformat_minor": 4
}
